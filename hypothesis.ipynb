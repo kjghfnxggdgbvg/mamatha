{
  "nbformat": 4,
  "nbformat_minor": 0,
  "metadata": {
    "colab": {
      "provenance": [],
      "authorship_tag": "ABX9TyPtn/dVaEoO+4ffJQFog3j7",
      "include_colab_link": true
    },
    "kernelspec": {
      "name": "python3",
      "display_name": "Python 3"
    },
    "language_info": {
      "name": "python"
    }
  },
  "cells": [
    {
      "cell_type": "markdown",
      "metadata": {
        "id": "view-in-github",
        "colab_type": "text"
      },
      "source": [
        "<a href=\"https://colab.research.google.com/github/kjghfnxggdgbvg/mamatha/blob/main/hypothesis.ipynb\" target=\"_parent\"><img src=\"https://colab.research.google.com/assets/colab-badge.svg\" alt=\"Open In Colab\"/></a>"
      ]
    },
    {
      "cell_type": "code",
      "execution_count": null,
      "metadata": {
        "id": "ZrUsult2JROU"
      },
      "outputs": [],
      "source": [
        "import numpy as np\n",
        "import pandas as pd\n",
        "import scipy.stats as stats"
      ]
    },
    {
      "cell_type": "code",
      "source": [
        "from scipy.stats import ttest_1samp, ttest_rel, ttest_ind"
      ],
      "metadata": {
        "id": "lcvsInXpSZuq"
      },
      "execution_count": null,
      "outputs": []
    },
    {
      "cell_type": "code",
      "source": [
        "cutlet = pd.read_csv('/content/Cutlets.csv')"
      ],
      "metadata": {
        "id": "hGUrT2xSKM8s"
      },
      "execution_count": null,
      "outputs": []
    },
    {
      "cell_type": "code",
      "source": [
        "cutlet"
      ],
      "metadata": {
        "colab": {
          "base_uri": "https://localhost:8080/",
          "height": 1000
        },
        "id": "EMMvLaOaOfbU",
        "outputId": "9ec827ad-f090-4207-bdc9-0ec42d5fe010"
      },
      "execution_count": null,
      "outputs": [
        {
          "output_type": "execute_result",
          "data": {
            "text/plain": [
              "    Unit A  Unit B\n",
              "0   6.8090  6.7703\n",
              "1   6.4376  7.5093\n",
              "2   6.9157  6.7300\n",
              "3   7.3012  6.7878\n",
              "4   7.4488  7.1522\n",
              "5   7.3871  6.8110\n",
              "6   6.8755  7.2212\n",
              "7   7.0621  6.6606\n",
              "8   6.6840  7.2402\n",
              "9   6.8236  7.0503\n",
              "10  7.3930  6.8810\n",
              "11  7.5169  7.4059\n",
              "12  6.9246  6.7652\n",
              "13  6.9256  6.0380\n",
              "14  6.5797  7.1581\n",
              "15  6.8394  7.0240\n",
              "16  6.5970  6.6672\n",
              "17  7.2705  7.4314\n",
              "18  7.2828  7.3070\n",
              "19  7.3495  6.7478\n",
              "20  6.9438  6.8889\n",
              "21  7.1560  7.4220\n",
              "22  6.5341  6.5217\n",
              "23  7.2854  7.1688\n",
              "24  6.9952  6.7594\n",
              "25  6.8568  6.9399\n",
              "26  7.2163  7.0133\n",
              "27  6.6801  6.9182\n",
              "28  6.9431  6.3346\n",
              "29  7.0852  7.5459\n",
              "30  6.7794  7.0992\n",
              "31  7.2783  7.1180\n",
              "32  7.1561  6.6965\n",
              "33  7.3943  6.5780\n",
              "34  6.9405  7.3875"
            ],
            "text/html": [
              "\n",
              "  <div id=\"df-08ec1fc1-80aa-4369-aee5-2286c8520283\" class=\"colab-df-container\">\n",
              "    <div>\n",
              "<style scoped>\n",
              "    .dataframe tbody tr th:only-of-type {\n",
              "        vertical-align: middle;\n",
              "    }\n",
              "\n",
              "    .dataframe tbody tr th {\n",
              "        vertical-align: top;\n",
              "    }\n",
              "\n",
              "    .dataframe thead th {\n",
              "        text-align: right;\n",
              "    }\n",
              "</style>\n",
              "<table border=\"1\" class=\"dataframe\">\n",
              "  <thead>\n",
              "    <tr style=\"text-align: right;\">\n",
              "      <th></th>\n",
              "      <th>Unit A</th>\n",
              "      <th>Unit B</th>\n",
              "    </tr>\n",
              "  </thead>\n",
              "  <tbody>\n",
              "    <tr>\n",
              "      <th>0</th>\n",
              "      <td>6.8090</td>\n",
              "      <td>6.7703</td>\n",
              "    </tr>\n",
              "    <tr>\n",
              "      <th>1</th>\n",
              "      <td>6.4376</td>\n",
              "      <td>7.5093</td>\n",
              "    </tr>\n",
              "    <tr>\n",
              "      <th>2</th>\n",
              "      <td>6.9157</td>\n",
              "      <td>6.7300</td>\n",
              "    </tr>\n",
              "    <tr>\n",
              "      <th>3</th>\n",
              "      <td>7.3012</td>\n",
              "      <td>6.7878</td>\n",
              "    </tr>\n",
              "    <tr>\n",
              "      <th>4</th>\n",
              "      <td>7.4488</td>\n",
              "      <td>7.1522</td>\n",
              "    </tr>\n",
              "    <tr>\n",
              "      <th>5</th>\n",
              "      <td>7.3871</td>\n",
              "      <td>6.8110</td>\n",
              "    </tr>\n",
              "    <tr>\n",
              "      <th>6</th>\n",
              "      <td>6.8755</td>\n",
              "      <td>7.2212</td>\n",
              "    </tr>\n",
              "    <tr>\n",
              "      <th>7</th>\n",
              "      <td>7.0621</td>\n",
              "      <td>6.6606</td>\n",
              "    </tr>\n",
              "    <tr>\n",
              "      <th>8</th>\n",
              "      <td>6.6840</td>\n",
              "      <td>7.2402</td>\n",
              "    </tr>\n",
              "    <tr>\n",
              "      <th>9</th>\n",
              "      <td>6.8236</td>\n",
              "      <td>7.0503</td>\n",
              "    </tr>\n",
              "    <tr>\n",
              "      <th>10</th>\n",
              "      <td>7.3930</td>\n",
              "      <td>6.8810</td>\n",
              "    </tr>\n",
              "    <tr>\n",
              "      <th>11</th>\n",
              "      <td>7.5169</td>\n",
              "      <td>7.4059</td>\n",
              "    </tr>\n",
              "    <tr>\n",
              "      <th>12</th>\n",
              "      <td>6.9246</td>\n",
              "      <td>6.7652</td>\n",
              "    </tr>\n",
              "    <tr>\n",
              "      <th>13</th>\n",
              "      <td>6.9256</td>\n",
              "      <td>6.0380</td>\n",
              "    </tr>\n",
              "    <tr>\n",
              "      <th>14</th>\n",
              "      <td>6.5797</td>\n",
              "      <td>7.1581</td>\n",
              "    </tr>\n",
              "    <tr>\n",
              "      <th>15</th>\n",
              "      <td>6.8394</td>\n",
              "      <td>7.0240</td>\n",
              "    </tr>\n",
              "    <tr>\n",
              "      <th>16</th>\n",
              "      <td>6.5970</td>\n",
              "      <td>6.6672</td>\n",
              "    </tr>\n",
              "    <tr>\n",
              "      <th>17</th>\n",
              "      <td>7.2705</td>\n",
              "      <td>7.4314</td>\n",
              "    </tr>\n",
              "    <tr>\n",
              "      <th>18</th>\n",
              "      <td>7.2828</td>\n",
              "      <td>7.3070</td>\n",
              "    </tr>\n",
              "    <tr>\n",
              "      <th>19</th>\n",
              "      <td>7.3495</td>\n",
              "      <td>6.7478</td>\n",
              "    </tr>\n",
              "    <tr>\n",
              "      <th>20</th>\n",
              "      <td>6.9438</td>\n",
              "      <td>6.8889</td>\n",
              "    </tr>\n",
              "    <tr>\n",
              "      <th>21</th>\n",
              "      <td>7.1560</td>\n",
              "      <td>7.4220</td>\n",
              "    </tr>\n",
              "    <tr>\n",
              "      <th>22</th>\n",
              "      <td>6.5341</td>\n",
              "      <td>6.5217</td>\n",
              "    </tr>\n",
              "    <tr>\n",
              "      <th>23</th>\n",
              "      <td>7.2854</td>\n",
              "      <td>7.1688</td>\n",
              "    </tr>\n",
              "    <tr>\n",
              "      <th>24</th>\n",
              "      <td>6.9952</td>\n",
              "      <td>6.7594</td>\n",
              "    </tr>\n",
              "    <tr>\n",
              "      <th>25</th>\n",
              "      <td>6.8568</td>\n",
              "      <td>6.9399</td>\n",
              "    </tr>\n",
              "    <tr>\n",
              "      <th>26</th>\n",
              "      <td>7.2163</td>\n",
              "      <td>7.0133</td>\n",
              "    </tr>\n",
              "    <tr>\n",
              "      <th>27</th>\n",
              "      <td>6.6801</td>\n",
              "      <td>6.9182</td>\n",
              "    </tr>\n",
              "    <tr>\n",
              "      <th>28</th>\n",
              "      <td>6.9431</td>\n",
              "      <td>6.3346</td>\n",
              "    </tr>\n",
              "    <tr>\n",
              "      <th>29</th>\n",
              "      <td>7.0852</td>\n",
              "      <td>7.5459</td>\n",
              "    </tr>\n",
              "    <tr>\n",
              "      <th>30</th>\n",
              "      <td>6.7794</td>\n",
              "      <td>7.0992</td>\n",
              "    </tr>\n",
              "    <tr>\n",
              "      <th>31</th>\n",
              "      <td>7.2783</td>\n",
              "      <td>7.1180</td>\n",
              "    </tr>\n",
              "    <tr>\n",
              "      <th>32</th>\n",
              "      <td>7.1561</td>\n",
              "      <td>6.6965</td>\n",
              "    </tr>\n",
              "    <tr>\n",
              "      <th>33</th>\n",
              "      <td>7.3943</td>\n",
              "      <td>6.5780</td>\n",
              "    </tr>\n",
              "    <tr>\n",
              "      <th>34</th>\n",
              "      <td>6.9405</td>\n",
              "      <td>7.3875</td>\n",
              "    </tr>\n",
              "  </tbody>\n",
              "</table>\n",
              "</div>\n",
              "    <div class=\"colab-df-buttons\">\n",
              "\n",
              "  <div class=\"colab-df-container\">\n",
              "    <button class=\"colab-df-convert\" onclick=\"convertToInteractive('df-08ec1fc1-80aa-4369-aee5-2286c8520283')\"\n",
              "            title=\"Convert this dataframe to an interactive table.\"\n",
              "            style=\"display:none;\">\n",
              "\n",
              "  <svg xmlns=\"http://www.w3.org/2000/svg\" height=\"24px\" viewBox=\"0 -960 960 960\">\n",
              "    <path d=\"M120-120v-720h720v720H120Zm60-500h600v-160H180v160Zm220 220h160v-160H400v160Zm0 220h160v-160H400v160ZM180-400h160v-160H180v160Zm440 0h160v-160H620v160ZM180-180h160v-160H180v160Zm440 0h160v-160H620v160Z\"/>\n",
              "  </svg>\n",
              "    </button>\n",
              "\n",
              "  <style>\n",
              "    .colab-df-container {\n",
              "      display:flex;\n",
              "      gap: 12px;\n",
              "    }\n",
              "\n",
              "    .colab-df-convert {\n",
              "      background-color: #E8F0FE;\n",
              "      border: none;\n",
              "      border-radius: 50%;\n",
              "      cursor: pointer;\n",
              "      display: none;\n",
              "      fill: #1967D2;\n",
              "      height: 32px;\n",
              "      padding: 0 0 0 0;\n",
              "      width: 32px;\n",
              "    }\n",
              "\n",
              "    .colab-df-convert:hover {\n",
              "      background-color: #E2EBFA;\n",
              "      box-shadow: 0px 1px 2px rgba(60, 64, 67, 0.3), 0px 1px 3px 1px rgba(60, 64, 67, 0.15);\n",
              "      fill: #174EA6;\n",
              "    }\n",
              "\n",
              "    .colab-df-buttons div {\n",
              "      margin-bottom: 4px;\n",
              "    }\n",
              "\n",
              "    [theme=dark] .colab-df-convert {\n",
              "      background-color: #3B4455;\n",
              "      fill: #D2E3FC;\n",
              "    }\n",
              "\n",
              "    [theme=dark] .colab-df-convert:hover {\n",
              "      background-color: #434B5C;\n",
              "      box-shadow: 0px 1px 3px 1px rgba(0, 0, 0, 0.15);\n",
              "      filter: drop-shadow(0px 1px 2px rgba(0, 0, 0, 0.3));\n",
              "      fill: #FFFFFF;\n",
              "    }\n",
              "  </style>\n",
              "\n",
              "    <script>\n",
              "      const buttonEl =\n",
              "        document.querySelector('#df-08ec1fc1-80aa-4369-aee5-2286c8520283 button.colab-df-convert');\n",
              "      buttonEl.style.display =\n",
              "        google.colab.kernel.accessAllowed ? 'block' : 'none';\n",
              "\n",
              "      async function convertToInteractive(key) {\n",
              "        const element = document.querySelector('#df-08ec1fc1-80aa-4369-aee5-2286c8520283');\n",
              "        const dataTable =\n",
              "          await google.colab.kernel.invokeFunction('convertToInteractive',\n",
              "                                                    [key], {});\n",
              "        if (!dataTable) return;\n",
              "\n",
              "        const docLinkHtml = 'Like what you see? Visit the ' +\n",
              "          '<a target=\"_blank\" href=https://colab.research.google.com/notebooks/data_table.ipynb>data table notebook</a>'\n",
              "          + ' to learn more about interactive tables.';\n",
              "        element.innerHTML = '';\n",
              "        dataTable['output_type'] = 'display_data';\n",
              "        await google.colab.output.renderOutput(dataTable, element);\n",
              "        const docLink = document.createElement('div');\n",
              "        docLink.innerHTML = docLinkHtml;\n",
              "        element.appendChild(docLink);\n",
              "      }\n",
              "    </script>\n",
              "  </div>\n",
              "\n",
              "\n",
              "<div id=\"df-4c464973-95c1-46dd-9fc6-4e9df31367ab\">\n",
              "  <button class=\"colab-df-quickchart\" onclick=\"quickchart('df-4c464973-95c1-46dd-9fc6-4e9df31367ab')\"\n",
              "            title=\"Suggest charts.\"\n",
              "            style=\"display:none;\">\n",
              "\n",
              "<svg xmlns=\"http://www.w3.org/2000/svg\" height=\"24px\"viewBox=\"0 0 24 24\"\n",
              "     width=\"24px\">\n",
              "    <g>\n",
              "        <path d=\"M19 3H5c-1.1 0-2 .9-2 2v14c0 1.1.9 2 2 2h14c1.1 0 2-.9 2-2V5c0-1.1-.9-2-2-2zM9 17H7v-7h2v7zm4 0h-2V7h2v10zm4 0h-2v-4h2v4z\"/>\n",
              "    </g>\n",
              "</svg>\n",
              "  </button>\n",
              "\n",
              "<style>\n",
              "  .colab-df-quickchart {\n",
              "    background-color: #E8F0FE;\n",
              "    border: none;\n",
              "    border-radius: 50%;\n",
              "    cursor: pointer;\n",
              "    display: none;\n",
              "    fill: #1967D2;\n",
              "    height: 32px;\n",
              "    padding: 0 0 0 0;\n",
              "    width: 32px;\n",
              "  }\n",
              "\n",
              "  .colab-df-quickchart:hover {\n",
              "    background-color: #E2EBFA;\n",
              "    box-shadow: 0px 1px 2px rgba(60, 64, 67, 0.3), 0px 1px 3px 1px rgba(60, 64, 67, 0.15);\n",
              "    fill: #174EA6;\n",
              "  }\n",
              "\n",
              "  [theme=dark] .colab-df-quickchart {\n",
              "    background-color: #3B4455;\n",
              "    fill: #D2E3FC;\n",
              "  }\n",
              "\n",
              "  [theme=dark] .colab-df-quickchart:hover {\n",
              "    background-color: #434B5C;\n",
              "    box-shadow: 0px 1px 3px 1px rgba(0, 0, 0, 0.15);\n",
              "    filter: drop-shadow(0px 1px 2px rgba(0, 0, 0, 0.3));\n",
              "    fill: #FFFFFF;\n",
              "  }\n",
              "</style>\n",
              "\n",
              "  <script>\n",
              "    async function quickchart(key) {\n",
              "      const charts = await google.colab.kernel.invokeFunction(\n",
              "          'suggestCharts', [key], {});\n",
              "    }\n",
              "    (() => {\n",
              "      let quickchartButtonEl =\n",
              "        document.querySelector('#df-4c464973-95c1-46dd-9fc6-4e9df31367ab button');\n",
              "      quickchartButtonEl.style.display =\n",
              "        google.colab.kernel.accessAllowed ? 'block' : 'none';\n",
              "    })();\n",
              "  </script>\n",
              "</div>\n",
              "    </div>\n",
              "  </div>\n"
            ]
          },
          "metadata": {},
          "execution_count": 158
        }
      ]
    },
    {
      "cell_type": "code",
      "source": [
        "# Here number of sample i,e N = 2\n",
        "      # size of each sample i,e n = 34\n",
        "      # null hypothesis is diameter of cutlets in both sample are same\n",
        "      # alternative hypothesis is diameter of cutlets in both sample are different\n",
        "      # apply 2 sample t test and in that paired test\n",
        "      # alpha value is 0.05\n"
      ],
      "metadata": {
        "id": "QqEfInWEOitW"
      },
      "execution_count": null,
      "outputs": []
    },
    {
      "cell_type": "code",
      "execution_count": null,
      "metadata": {
        "id": "g63012q_cwHU"
      },
      "outputs": [],
      "source": [
        "unitA =pd.Series([6.809 , 6.4376 , 6.9157 , 7.3012 , 7.4488 , 7.3871 , 6.8755 , 7.0621 , 6.684 , 6.8236 , 7.393 , 7.5169 ,  6.9246 , 6.9256 , 6.5797 , 6.8394 , 6.597 , 7.2705 , 7.2828 , 7.3495 , 6.9438 , 7.156 , 6.5341 , 7.2854 , 6.9952 , 6.8568 , 7.2163 , 6.6801 , 6.9431 , 7.0852 , 6.7794 , 7.2783 , 7.1561 , 7.3943 , 6.9405])"
      ]
    },
    {
      "cell_type": "code",
      "source": [
        "unitB =pd.Series([6.7703 , 7.5093 , 6.73 , 6.7878 , 7.1522 , 6.811 , 7.2212 , 6.6606 , 7.2402 , 7.0503 , 6.881 , 7.4059 , 6.7652 , 6.038 , 7.1581 , 7.024 , 6.6672 , 7.4314 , 7.307 , 6.7478 , 6.8889 , 7.422 , 6.5217  , 7.1688 , 6.7594 , 6.9399 , 7.0133 , 6.9182 , 6.3346 , 7.5459 , 7.0992 , 7.118 , 6.6965 , 6.578 , 7.3875])"
      ],
      "metadata": {
        "id": "1HMC_9rnpssQ"
      },
      "execution_count": null,
      "outputs": []
    },
    {
      "cell_type": "code",
      "source": [
        "ttest_rel(unitA , unitB , alternative='two-sided')"
      ],
      "metadata": {
        "colab": {
          "base_uri": "https://localhost:8080/"
        },
        "id": "LmeGo6Vg0iY5",
        "outputId": "b8113120-11ae-493b-a553-e92b68e7c0fc"
      },
      "execution_count": null,
      "outputs": [
        {
          "output_type": "execute_result",
          "data": {
            "text/plain": [
              "TtestResult(statistic=0.7536787225614316, pvalue=0.4562300768038412, df=34)"
            ]
          },
          "metadata": {},
          "execution_count": 162
        }
      ]
    },
    {
      "cell_type": "code",
      "source": [
        "# yes, here p>alpha value i.e,p>0.05 hence we have accept null hyothesis and reject alternative hypothesis\n",
        "# inference : there no change  in diameter of cutlets ,No significant difference"
      ],
      "metadata": {
        "id": "lmIQQNIm0zHE"
      },
      "execution_count": null,
      "outputs": []
    },
    {
      "cell_type": "code",
      "source": [
        "# Here for labtat file applying ANOVA method\n",
        "# Here number of sample i,e N = 4\n",
        "      # size of each sample i,e n = 119\n",
        "      # null hypothesis : there is no significant difference average turn around time(TAT) of reports of the laboratories on their preferred list\n",
        "      # alternative hypothesis : there is significant difference average turn around time(TAT) of reports of the laboratories on their preferred list\n",
        "      # apply ANOVA\n",
        "      # alpha value is 0.05"
      ],
      "metadata": {
        "id": "4vykYrv63XzX"
      },
      "execution_count": null,
      "outputs": []
    },
    {
      "cell_type": "code",
      "source": [
        "lab = pd.read_csv('/content/LabTAT.csv')"
      ],
      "metadata": {
        "id": "tzSX7EOK5TJw"
      },
      "execution_count": null,
      "outputs": []
    },
    {
      "cell_type": "code",
      "source": [
        "lab"
      ],
      "metadata": {
        "colab": {
          "base_uri": "https://localhost:8080/",
          "height": 424
        },
        "id": "FaAlHZgg5fFl",
        "outputId": "ca95adcb-b53c-4e91-93bf-783b14727bb6"
      },
      "execution_count": null,
      "outputs": [
        {
          "output_type": "execute_result",
          "data": {
            "text/plain": [
              "     Laboratory 1  Laboratory 2  Laboratory 3  Laboratory 4\n",
              "0          185.35        165.53        176.70        166.13\n",
              "1          170.49        185.91        198.45        160.79\n",
              "2          192.77        194.92        201.23        185.18\n",
              "3          177.33        183.00        199.61        176.42\n",
              "4          193.41        169.57        204.63        152.60\n",
              "..            ...           ...           ...           ...\n",
              "115        178.49        170.66        193.80        172.68\n",
              "116        176.08        183.98        215.25        177.64\n",
              "117        202.48        174.54        203.99        170.27\n",
              "118        182.40        197.18        194.52        150.87\n",
              "119        182.09        215.17        221.49        162.21\n",
              "\n",
              "[120 rows x 4 columns]"
            ],
            "text/html": [
              "\n",
              "  <div id=\"df-7856f13d-45fe-47c3-87ef-54a494b92c06\" class=\"colab-df-container\">\n",
              "    <div>\n",
              "<style scoped>\n",
              "    .dataframe tbody tr th:only-of-type {\n",
              "        vertical-align: middle;\n",
              "    }\n",
              "\n",
              "    .dataframe tbody tr th {\n",
              "        vertical-align: top;\n",
              "    }\n",
              "\n",
              "    .dataframe thead th {\n",
              "        text-align: right;\n",
              "    }\n",
              "</style>\n",
              "<table border=\"1\" class=\"dataframe\">\n",
              "  <thead>\n",
              "    <tr style=\"text-align: right;\">\n",
              "      <th></th>\n",
              "      <th>Laboratory 1</th>\n",
              "      <th>Laboratory 2</th>\n",
              "      <th>Laboratory 3</th>\n",
              "      <th>Laboratory 4</th>\n",
              "    </tr>\n",
              "  </thead>\n",
              "  <tbody>\n",
              "    <tr>\n",
              "      <th>0</th>\n",
              "      <td>185.35</td>\n",
              "      <td>165.53</td>\n",
              "      <td>176.70</td>\n",
              "      <td>166.13</td>\n",
              "    </tr>\n",
              "    <tr>\n",
              "      <th>1</th>\n",
              "      <td>170.49</td>\n",
              "      <td>185.91</td>\n",
              "      <td>198.45</td>\n",
              "      <td>160.79</td>\n",
              "    </tr>\n",
              "    <tr>\n",
              "      <th>2</th>\n",
              "      <td>192.77</td>\n",
              "      <td>194.92</td>\n",
              "      <td>201.23</td>\n",
              "      <td>185.18</td>\n",
              "    </tr>\n",
              "    <tr>\n",
              "      <th>3</th>\n",
              "      <td>177.33</td>\n",
              "      <td>183.00</td>\n",
              "      <td>199.61</td>\n",
              "      <td>176.42</td>\n",
              "    </tr>\n",
              "    <tr>\n",
              "      <th>4</th>\n",
              "      <td>193.41</td>\n",
              "      <td>169.57</td>\n",
              "      <td>204.63</td>\n",
              "      <td>152.60</td>\n",
              "    </tr>\n",
              "    <tr>\n",
              "      <th>...</th>\n",
              "      <td>...</td>\n",
              "      <td>...</td>\n",
              "      <td>...</td>\n",
              "      <td>...</td>\n",
              "    </tr>\n",
              "    <tr>\n",
              "      <th>115</th>\n",
              "      <td>178.49</td>\n",
              "      <td>170.66</td>\n",
              "      <td>193.80</td>\n",
              "      <td>172.68</td>\n",
              "    </tr>\n",
              "    <tr>\n",
              "      <th>116</th>\n",
              "      <td>176.08</td>\n",
              "      <td>183.98</td>\n",
              "      <td>215.25</td>\n",
              "      <td>177.64</td>\n",
              "    </tr>\n",
              "    <tr>\n",
              "      <th>117</th>\n",
              "      <td>202.48</td>\n",
              "      <td>174.54</td>\n",
              "      <td>203.99</td>\n",
              "      <td>170.27</td>\n",
              "    </tr>\n",
              "    <tr>\n",
              "      <th>118</th>\n",
              "      <td>182.40</td>\n",
              "      <td>197.18</td>\n",
              "      <td>194.52</td>\n",
              "      <td>150.87</td>\n",
              "    </tr>\n",
              "    <tr>\n",
              "      <th>119</th>\n",
              "      <td>182.09</td>\n",
              "      <td>215.17</td>\n",
              "      <td>221.49</td>\n",
              "      <td>162.21</td>\n",
              "    </tr>\n",
              "  </tbody>\n",
              "</table>\n",
              "<p>120 rows × 4 columns</p>\n",
              "</div>\n",
              "    <div class=\"colab-df-buttons\">\n",
              "\n",
              "  <div class=\"colab-df-container\">\n",
              "    <button class=\"colab-df-convert\" onclick=\"convertToInteractive('df-7856f13d-45fe-47c3-87ef-54a494b92c06')\"\n",
              "            title=\"Convert this dataframe to an interactive table.\"\n",
              "            style=\"display:none;\">\n",
              "\n",
              "  <svg xmlns=\"http://www.w3.org/2000/svg\" height=\"24px\" viewBox=\"0 -960 960 960\">\n",
              "    <path d=\"M120-120v-720h720v720H120Zm60-500h600v-160H180v160Zm220 220h160v-160H400v160Zm0 220h160v-160H400v160ZM180-400h160v-160H180v160Zm440 0h160v-160H620v160ZM180-180h160v-160H180v160Zm440 0h160v-160H620v160Z\"/>\n",
              "  </svg>\n",
              "    </button>\n",
              "\n",
              "  <style>\n",
              "    .colab-df-container {\n",
              "      display:flex;\n",
              "      gap: 12px;\n",
              "    }\n",
              "\n",
              "    .colab-df-convert {\n",
              "      background-color: #E8F0FE;\n",
              "      border: none;\n",
              "      border-radius: 50%;\n",
              "      cursor: pointer;\n",
              "      display: none;\n",
              "      fill: #1967D2;\n",
              "      height: 32px;\n",
              "      padding: 0 0 0 0;\n",
              "      width: 32px;\n",
              "    }\n",
              "\n",
              "    .colab-df-convert:hover {\n",
              "      background-color: #E2EBFA;\n",
              "      box-shadow: 0px 1px 2px rgba(60, 64, 67, 0.3), 0px 1px 3px 1px rgba(60, 64, 67, 0.15);\n",
              "      fill: #174EA6;\n",
              "    }\n",
              "\n",
              "    .colab-df-buttons div {\n",
              "      margin-bottom: 4px;\n",
              "    }\n",
              "\n",
              "    [theme=dark] .colab-df-convert {\n",
              "      background-color: #3B4455;\n",
              "      fill: #D2E3FC;\n",
              "    }\n",
              "\n",
              "    [theme=dark] .colab-df-convert:hover {\n",
              "      background-color: #434B5C;\n",
              "      box-shadow: 0px 1px 3px 1px rgba(0, 0, 0, 0.15);\n",
              "      filter: drop-shadow(0px 1px 2px rgba(0, 0, 0, 0.3));\n",
              "      fill: #FFFFFF;\n",
              "    }\n",
              "  </style>\n",
              "\n",
              "    <script>\n",
              "      const buttonEl =\n",
              "        document.querySelector('#df-7856f13d-45fe-47c3-87ef-54a494b92c06 button.colab-df-convert');\n",
              "      buttonEl.style.display =\n",
              "        google.colab.kernel.accessAllowed ? 'block' : 'none';\n",
              "\n",
              "      async function convertToInteractive(key) {\n",
              "        const element = document.querySelector('#df-7856f13d-45fe-47c3-87ef-54a494b92c06');\n",
              "        const dataTable =\n",
              "          await google.colab.kernel.invokeFunction('convertToInteractive',\n",
              "                                                    [key], {});\n",
              "        if (!dataTable) return;\n",
              "\n",
              "        const docLinkHtml = 'Like what you see? Visit the ' +\n",
              "          '<a target=\"_blank\" href=https://colab.research.google.com/notebooks/data_table.ipynb>data table notebook</a>'\n",
              "          + ' to learn more about interactive tables.';\n",
              "        element.innerHTML = '';\n",
              "        dataTable['output_type'] = 'display_data';\n",
              "        await google.colab.output.renderOutput(dataTable, element);\n",
              "        const docLink = document.createElement('div');\n",
              "        docLink.innerHTML = docLinkHtml;\n",
              "        element.appendChild(docLink);\n",
              "      }\n",
              "    </script>\n",
              "  </div>\n",
              "\n",
              "\n",
              "<div id=\"df-2ef4bf08-d91f-4c52-96b1-19c4bc39ec3f\">\n",
              "  <button class=\"colab-df-quickchart\" onclick=\"quickchart('df-2ef4bf08-d91f-4c52-96b1-19c4bc39ec3f')\"\n",
              "            title=\"Suggest charts.\"\n",
              "            style=\"display:none;\">\n",
              "\n",
              "<svg xmlns=\"http://www.w3.org/2000/svg\" height=\"24px\"viewBox=\"0 0 24 24\"\n",
              "     width=\"24px\">\n",
              "    <g>\n",
              "        <path d=\"M19 3H5c-1.1 0-2 .9-2 2v14c0 1.1.9 2 2 2h14c1.1 0 2-.9 2-2V5c0-1.1-.9-2-2-2zM9 17H7v-7h2v7zm4 0h-2V7h2v10zm4 0h-2v-4h2v4z\"/>\n",
              "    </g>\n",
              "</svg>\n",
              "  </button>\n",
              "\n",
              "<style>\n",
              "  .colab-df-quickchart {\n",
              "    background-color: #E8F0FE;\n",
              "    border: none;\n",
              "    border-radius: 50%;\n",
              "    cursor: pointer;\n",
              "    display: none;\n",
              "    fill: #1967D2;\n",
              "    height: 32px;\n",
              "    padding: 0 0 0 0;\n",
              "    width: 32px;\n",
              "  }\n",
              "\n",
              "  .colab-df-quickchart:hover {\n",
              "    background-color: #E2EBFA;\n",
              "    box-shadow: 0px 1px 2px rgba(60, 64, 67, 0.3), 0px 1px 3px 1px rgba(60, 64, 67, 0.15);\n",
              "    fill: #174EA6;\n",
              "  }\n",
              "\n",
              "  [theme=dark] .colab-df-quickchart {\n",
              "    background-color: #3B4455;\n",
              "    fill: #D2E3FC;\n",
              "  }\n",
              "\n",
              "  [theme=dark] .colab-df-quickchart:hover {\n",
              "    background-color: #434B5C;\n",
              "    box-shadow: 0px 1px 3px 1px rgba(0, 0, 0, 0.15);\n",
              "    filter: drop-shadow(0px 1px 2px rgba(0, 0, 0, 0.3));\n",
              "    fill: #FFFFFF;\n",
              "  }\n",
              "</style>\n",
              "\n",
              "  <script>\n",
              "    async function quickchart(key) {\n",
              "      const charts = await google.colab.kernel.invokeFunction(\n",
              "          'suggestCharts', [key], {});\n",
              "    }\n",
              "    (() => {\n",
              "      let quickchartButtonEl =\n",
              "        document.querySelector('#df-2ef4bf08-d91f-4c52-96b1-19c4bc39ec3f button');\n",
              "      quickchartButtonEl.style.display =\n",
              "        google.colab.kernel.accessAllowed ? 'block' : 'none';\n",
              "    })();\n",
              "  </script>\n",
              "</div>\n",
              "    </div>\n",
              "  </div>\n"
            ]
          },
          "metadata": {},
          "execution_count": 166
        }
      ]
    },
    {
      "cell_type": "code",
      "source": [
        "import numpy as np\n",
        "import pandas as pd\n",
        "import scipy.stats as stats"
      ],
      "metadata": {
        "id": "tXrOfmdI9E67"
      },
      "execution_count": null,
      "outputs": []
    },
    {
      "cell_type": "code",
      "source": [
        "stats.f_oneway(lab.iloc[:,0], lab.iloc[:,1], lab.iloc[:,2] ,lab.iloc[:,3])"
      ],
      "metadata": {
        "colab": {
          "base_uri": "https://localhost:8080/"
        },
        "id": "1kqU4gBv5gNm",
        "outputId": "8cdf811e-a034-48eb-b320-f2a761f37b30"
      },
      "execution_count": null,
      "outputs": [
        {
          "output_type": "execute_result",
          "data": {
            "text/plain": [
              "F_onewayResult(statistic=118.70421654401437, pvalue=2.1156708949992414e-57)"
            ]
          },
          "metadata": {},
          "execution_count": 168
        }
      ]
    },
    {
      "cell_type": "code",
      "source": [
        "# Here for costomer+orderForm file applying chi-square method\n",
        "# Here number of sample i,e N = 4\n",
        "      # size of each sample i,e n = 300\n",
        "      # null hypothesis : there is no change defective% varies of center\n",
        "      # alternative hypothesis : there is change defective% varies of center\n",
        "      # apply chi-square\n",
        "      # alpha value is 0.05\n",
        "      # this problem i used excel pivot table to create table of error free and defective"
      ],
      "metadata": {
        "id": "-ySlVXlcIPUu"
      },
      "execution_count": null,
      "outputs": []
    },
    {
      "cell_type": "code",
      "source": [
        "order = pd.read_csv('/content/Costomer+OrderForm.csv')"
      ],
      "metadata": {
        "id": "jbFdTcIf7_So"
      },
      "execution_count": null,
      "outputs": []
    },
    {
      "cell_type": "code",
      "source": [
        "order"
      ],
      "metadata": {
        "colab": {
          "base_uri": "https://localhost:8080/",
          "height": 424
        },
        "id": "z9pabjDNQIh_",
        "outputId": "3644e4ee-f9e1-41db-cdd8-fcfb18e772c0"
      },
      "execution_count": null,
      "outputs": [
        {
          "output_type": "execute_result",
          "data": {
            "text/plain": [
              "    Phillippines   Indonesia       Malta       India\n",
              "0     Error Free  Error Free   Defective  Error Free\n",
              "1     Error Free  Error Free  Error Free   Defective\n",
              "2     Error Free   Defective   Defective  Error Free\n",
              "3     Error Free  Error Free  Error Free  Error Free\n",
              "4     Error Free  Error Free   Defective  Error Free\n",
              "..           ...         ...         ...         ...\n",
              "295   Error Free  Error Free  Error Free  Error Free\n",
              "296   Error Free  Error Free  Error Free  Error Free\n",
              "297   Error Free  Error Free   Defective  Error Free\n",
              "298   Error Free  Error Free  Error Free  Error Free\n",
              "299   Error Free   Defective   Defective  Error Free\n",
              "\n",
              "[300 rows x 4 columns]"
            ],
            "text/html": [
              "\n",
              "  <div id=\"df-a82fac9a-de58-4300-8883-4779bd764616\" class=\"colab-df-container\">\n",
              "    <div>\n",
              "<style scoped>\n",
              "    .dataframe tbody tr th:only-of-type {\n",
              "        vertical-align: middle;\n",
              "    }\n",
              "\n",
              "    .dataframe tbody tr th {\n",
              "        vertical-align: top;\n",
              "    }\n",
              "\n",
              "    .dataframe thead th {\n",
              "        text-align: right;\n",
              "    }\n",
              "</style>\n",
              "<table border=\"1\" class=\"dataframe\">\n",
              "  <thead>\n",
              "    <tr style=\"text-align: right;\">\n",
              "      <th></th>\n",
              "      <th>Phillippines</th>\n",
              "      <th>Indonesia</th>\n",
              "      <th>Malta</th>\n",
              "      <th>India</th>\n",
              "    </tr>\n",
              "  </thead>\n",
              "  <tbody>\n",
              "    <tr>\n",
              "      <th>0</th>\n",
              "      <td>Error Free</td>\n",
              "      <td>Error Free</td>\n",
              "      <td>Defective</td>\n",
              "      <td>Error Free</td>\n",
              "    </tr>\n",
              "    <tr>\n",
              "      <th>1</th>\n",
              "      <td>Error Free</td>\n",
              "      <td>Error Free</td>\n",
              "      <td>Error Free</td>\n",
              "      <td>Defective</td>\n",
              "    </tr>\n",
              "    <tr>\n",
              "      <th>2</th>\n",
              "      <td>Error Free</td>\n",
              "      <td>Defective</td>\n",
              "      <td>Defective</td>\n",
              "      <td>Error Free</td>\n",
              "    </tr>\n",
              "    <tr>\n",
              "      <th>3</th>\n",
              "      <td>Error Free</td>\n",
              "      <td>Error Free</td>\n",
              "      <td>Error Free</td>\n",
              "      <td>Error Free</td>\n",
              "    </tr>\n",
              "    <tr>\n",
              "      <th>4</th>\n",
              "      <td>Error Free</td>\n",
              "      <td>Error Free</td>\n",
              "      <td>Defective</td>\n",
              "      <td>Error Free</td>\n",
              "    </tr>\n",
              "    <tr>\n",
              "      <th>...</th>\n",
              "      <td>...</td>\n",
              "      <td>...</td>\n",
              "      <td>...</td>\n",
              "      <td>...</td>\n",
              "    </tr>\n",
              "    <tr>\n",
              "      <th>295</th>\n",
              "      <td>Error Free</td>\n",
              "      <td>Error Free</td>\n",
              "      <td>Error Free</td>\n",
              "      <td>Error Free</td>\n",
              "    </tr>\n",
              "    <tr>\n",
              "      <th>296</th>\n",
              "      <td>Error Free</td>\n",
              "      <td>Error Free</td>\n",
              "      <td>Error Free</td>\n",
              "      <td>Error Free</td>\n",
              "    </tr>\n",
              "    <tr>\n",
              "      <th>297</th>\n",
              "      <td>Error Free</td>\n",
              "      <td>Error Free</td>\n",
              "      <td>Defective</td>\n",
              "      <td>Error Free</td>\n",
              "    </tr>\n",
              "    <tr>\n",
              "      <th>298</th>\n",
              "      <td>Error Free</td>\n",
              "      <td>Error Free</td>\n",
              "      <td>Error Free</td>\n",
              "      <td>Error Free</td>\n",
              "    </tr>\n",
              "    <tr>\n",
              "      <th>299</th>\n",
              "      <td>Error Free</td>\n",
              "      <td>Defective</td>\n",
              "      <td>Defective</td>\n",
              "      <td>Error Free</td>\n",
              "    </tr>\n",
              "  </tbody>\n",
              "</table>\n",
              "<p>300 rows × 4 columns</p>\n",
              "</div>\n",
              "    <div class=\"colab-df-buttons\">\n",
              "\n",
              "  <div class=\"colab-df-container\">\n",
              "    <button class=\"colab-df-convert\" onclick=\"convertToInteractive('df-a82fac9a-de58-4300-8883-4779bd764616')\"\n",
              "            title=\"Convert this dataframe to an interactive table.\"\n",
              "            style=\"display:none;\">\n",
              "\n",
              "  <svg xmlns=\"http://www.w3.org/2000/svg\" height=\"24px\" viewBox=\"0 -960 960 960\">\n",
              "    <path d=\"M120-120v-720h720v720H120Zm60-500h600v-160H180v160Zm220 220h160v-160H400v160Zm0 220h160v-160H400v160ZM180-400h160v-160H180v160Zm440 0h160v-160H620v160ZM180-180h160v-160H180v160Zm440 0h160v-160H620v160Z\"/>\n",
              "  </svg>\n",
              "    </button>\n",
              "\n",
              "  <style>\n",
              "    .colab-df-container {\n",
              "      display:flex;\n",
              "      gap: 12px;\n",
              "    }\n",
              "\n",
              "    .colab-df-convert {\n",
              "      background-color: #E8F0FE;\n",
              "      border: none;\n",
              "      border-radius: 50%;\n",
              "      cursor: pointer;\n",
              "      display: none;\n",
              "      fill: #1967D2;\n",
              "      height: 32px;\n",
              "      padding: 0 0 0 0;\n",
              "      width: 32px;\n",
              "    }\n",
              "\n",
              "    .colab-df-convert:hover {\n",
              "      background-color: #E2EBFA;\n",
              "      box-shadow: 0px 1px 2px rgba(60, 64, 67, 0.3), 0px 1px 3px 1px rgba(60, 64, 67, 0.15);\n",
              "      fill: #174EA6;\n",
              "    }\n",
              "\n",
              "    .colab-df-buttons div {\n",
              "      margin-bottom: 4px;\n",
              "    }\n",
              "\n",
              "    [theme=dark] .colab-df-convert {\n",
              "      background-color: #3B4455;\n",
              "      fill: #D2E3FC;\n",
              "    }\n",
              "\n",
              "    [theme=dark] .colab-df-convert:hover {\n",
              "      background-color: #434B5C;\n",
              "      box-shadow: 0px 1px 3px 1px rgba(0, 0, 0, 0.15);\n",
              "      filter: drop-shadow(0px 1px 2px rgba(0, 0, 0, 0.3));\n",
              "      fill: #FFFFFF;\n",
              "    }\n",
              "  </style>\n",
              "\n",
              "    <script>\n",
              "      const buttonEl =\n",
              "        document.querySelector('#df-a82fac9a-de58-4300-8883-4779bd764616 button.colab-df-convert');\n",
              "      buttonEl.style.display =\n",
              "        google.colab.kernel.accessAllowed ? 'block' : 'none';\n",
              "\n",
              "      async function convertToInteractive(key) {\n",
              "        const element = document.querySelector('#df-a82fac9a-de58-4300-8883-4779bd764616');\n",
              "        const dataTable =\n",
              "          await google.colab.kernel.invokeFunction('convertToInteractive',\n",
              "                                                    [key], {});\n",
              "        if (!dataTable) return;\n",
              "\n",
              "        const docLinkHtml = 'Like what you see? Visit the ' +\n",
              "          '<a target=\"_blank\" href=https://colab.research.google.com/notebooks/data_table.ipynb>data table notebook</a>'\n",
              "          + ' to learn more about interactive tables.';\n",
              "        element.innerHTML = '';\n",
              "        dataTable['output_type'] = 'display_data';\n",
              "        await google.colab.output.renderOutput(dataTable, element);\n",
              "        const docLink = document.createElement('div');\n",
              "        docLink.innerHTML = docLinkHtml;\n",
              "        element.appendChild(docLink);\n",
              "      }\n",
              "    </script>\n",
              "  </div>\n",
              "\n",
              "\n",
              "<div id=\"df-40fc08d5-1e18-42ad-8862-883d731dd50b\">\n",
              "  <button class=\"colab-df-quickchart\" onclick=\"quickchart('df-40fc08d5-1e18-42ad-8862-883d731dd50b')\"\n",
              "            title=\"Suggest charts.\"\n",
              "            style=\"display:none;\">\n",
              "\n",
              "<svg xmlns=\"http://www.w3.org/2000/svg\" height=\"24px\"viewBox=\"0 0 24 24\"\n",
              "     width=\"24px\">\n",
              "    <g>\n",
              "        <path d=\"M19 3H5c-1.1 0-2 .9-2 2v14c0 1.1.9 2 2 2h14c1.1 0 2-.9 2-2V5c0-1.1-.9-2-2-2zM9 17H7v-7h2v7zm4 0h-2V7h2v10zm4 0h-2v-4h2v4z\"/>\n",
              "    </g>\n",
              "</svg>\n",
              "  </button>\n",
              "\n",
              "<style>\n",
              "  .colab-df-quickchart {\n",
              "    background-color: #E8F0FE;\n",
              "    border: none;\n",
              "    border-radius: 50%;\n",
              "    cursor: pointer;\n",
              "    display: none;\n",
              "    fill: #1967D2;\n",
              "    height: 32px;\n",
              "    padding: 0 0 0 0;\n",
              "    width: 32px;\n",
              "  }\n",
              "\n",
              "  .colab-df-quickchart:hover {\n",
              "    background-color: #E2EBFA;\n",
              "    box-shadow: 0px 1px 2px rgba(60, 64, 67, 0.3), 0px 1px 3px 1px rgba(60, 64, 67, 0.15);\n",
              "    fill: #174EA6;\n",
              "  }\n",
              "\n",
              "  [theme=dark] .colab-df-quickchart {\n",
              "    background-color: #3B4455;\n",
              "    fill: #D2E3FC;\n",
              "  }\n",
              "\n",
              "  [theme=dark] .colab-df-quickchart:hover {\n",
              "    background-color: #434B5C;\n",
              "    box-shadow: 0px 1px 3px 1px rgba(0, 0, 0, 0.15);\n",
              "    filter: drop-shadow(0px 1px 2px rgba(0, 0, 0, 0.3));\n",
              "    fill: #FFFFFF;\n",
              "  }\n",
              "</style>\n",
              "\n",
              "  <script>\n",
              "    async function quickchart(key) {\n",
              "      const charts = await google.colab.kernel.invokeFunction(\n",
              "          'suggestCharts', [key], {});\n",
              "    }\n",
              "    (() => {\n",
              "      let quickchartButtonEl =\n",
              "        document.querySelector('#df-40fc08d5-1e18-42ad-8862-883d731dd50b button');\n",
              "      quickchartButtonEl.style.display =\n",
              "        google.colab.kernel.accessAllowed ? 'block' : 'none';\n",
              "    })();\n",
              "  </script>\n",
              "</div>\n",
              "    </div>\n",
              "  </div>\n"
            ]
          },
          "metadata": {},
          "execution_count": 171
        }
      ]
    },
    {
      "cell_type": "code",
      "source": [
        "# contingency table used pivot table\n",
        "table = [[29 , 33 , 31 , 20] ,\n",
        "         [271 , 267 , 269 , 280]]\n",
        "print(table)"
      ],
      "metadata": {
        "id": "n2hE840ZWbSc",
        "colab": {
          "base_uri": "https://localhost:8080/"
        },
        "outputId": "b2d10c22-796a-4da3-97a9-eca9e0d3ba5e"
      },
      "execution_count": null,
      "outputs": [
        {
          "output_type": "stream",
          "name": "stdout",
          "text": [
            "[[29, 33, 31, 20], [271, 267, 269, 280]]\n"
          ]
        }
      ]
    },
    {
      "cell_type": "code",
      "source": [
        "stat, p , dof , expected = stats.chi2_contingency(table)\n",
        "print('dof=%d' % dof)\n",
        "print(p)"
      ],
      "metadata": {
        "colab": {
          "base_uri": "https://localhost:8080/"
        },
        "id": "YAu_yaOVtP7u",
        "outputId": "a1c15739-e318-4697-e560-0d703f47ab1a"
      },
      "execution_count": null,
      "outputs": [
        {
          "output_type": "stream",
          "name": "stdout",
          "text": [
            "dof=3\n",
            "0.2771020991233135\n"
          ]
        }
      ]
    },
    {
      "cell_type": "code",
      "source": [
        "expected"
      ],
      "metadata": {
        "colab": {
          "base_uri": "https://localhost:8080/"
        },
        "id": "2EDHDqb5ts5G",
        "outputId": "6dcb4820-446b-4b7e-c363-6b782621f011"
      },
      "execution_count": null,
      "outputs": [
        {
          "output_type": "execute_result",
          "data": {
            "text/plain": [
              "array([[ 28.25,  28.25,  28.25,  28.25],\n",
              "       [271.75, 271.75, 271.75, 271.75]])"
            ]
          },
          "metadata": {},
          "execution_count": 174
        }
      ]
    },
    {
      "cell_type": "code",
      "source": [
        "#interpert p-value\n",
        "alpha = 0.05\n",
        "print('significance=%.3f , p=%.3f' % (alpha,p))\n",
        "if p<= alpha:\n",
        "  print('Dependence - There is no change defective% varies of center')\n",
        "else:\n",
        "  print('independence - There is change defective% varies of center')"
      ],
      "metadata": {
        "colab": {
          "base_uri": "https://localhost:8080/"
        },
        "id": "qLlADqmItxm0",
        "outputId": "f0512697-c4ac-4a3e-c220-42c48561d787"
      },
      "execution_count": null,
      "outputs": [
        {
          "output_type": "stream",
          "name": "stdout",
          "text": [
            "significance=0.050 , p=0.277\n",
            "independence - There is change defective% varies of center\n"
          ]
        }
      ]
    },
    {
      "cell_type": "code",
      "source": [
        " #Here for BuyerRatio file applying chi-square method\n",
        "# Here number of sample i,e N = 2\n",
        "      # size of each sample i,e n = 300\n",
        "      # null hypothesis : there is no change defective% varies of center\n",
        "      # alternative hypothesis : there is change defective% varies of center\n",
        "      # apply chi-square\n",
        "      # alpha value is 0.05"
      ],
      "metadata": {
        "id": "FOO8wnJwJpzc"
      },
      "execution_count": null,
      "outputs": []
    },
    {
      "cell_type": "code",
      "source": [
        "Buy = pd.read_csv('/content/BuyerRatio.csv')"
      ],
      "metadata": {
        "id": "hQHV8xrSvpaV"
      },
      "execution_count": null,
      "outputs": []
    },
    {
      "cell_type": "code",
      "source": [
        "Buy"
      ],
      "metadata": {
        "colab": {
          "base_uri": "https://localhost:8080/",
          "height": 112
        },
        "id": "frEIddvN4Qa5",
        "outputId": "79c6a9ee-8f6b-464b-a284-67cb8d37211f"
      },
      "execution_count": null,
      "outputs": [
        {
          "output_type": "execute_result",
          "data": {
            "text/plain": [
              "  Observed Values  East  West  North  South\n",
              "0           Males    50   142    131     70\n",
              "1         Females   435  1523   1356    750"
            ],
            "text/html": [
              "\n",
              "  <div id=\"df-f49e83c2-6b81-41f7-ab18-dc5bda722089\" class=\"colab-df-container\">\n",
              "    <div>\n",
              "<style scoped>\n",
              "    .dataframe tbody tr th:only-of-type {\n",
              "        vertical-align: middle;\n",
              "    }\n",
              "\n",
              "    .dataframe tbody tr th {\n",
              "        vertical-align: top;\n",
              "    }\n",
              "\n",
              "    .dataframe thead th {\n",
              "        text-align: right;\n",
              "    }\n",
              "</style>\n",
              "<table border=\"1\" class=\"dataframe\">\n",
              "  <thead>\n",
              "    <tr style=\"text-align: right;\">\n",
              "      <th></th>\n",
              "      <th>Observed Values</th>\n",
              "      <th>East</th>\n",
              "      <th>West</th>\n",
              "      <th>North</th>\n",
              "      <th>South</th>\n",
              "    </tr>\n",
              "  </thead>\n",
              "  <tbody>\n",
              "    <tr>\n",
              "      <th>0</th>\n",
              "      <td>Males</td>\n",
              "      <td>50</td>\n",
              "      <td>142</td>\n",
              "      <td>131</td>\n",
              "      <td>70</td>\n",
              "    </tr>\n",
              "    <tr>\n",
              "      <th>1</th>\n",
              "      <td>Females</td>\n",
              "      <td>435</td>\n",
              "      <td>1523</td>\n",
              "      <td>1356</td>\n",
              "      <td>750</td>\n",
              "    </tr>\n",
              "  </tbody>\n",
              "</table>\n",
              "</div>\n",
              "    <div class=\"colab-df-buttons\">\n",
              "\n",
              "  <div class=\"colab-df-container\">\n",
              "    <button class=\"colab-df-convert\" onclick=\"convertToInteractive('df-f49e83c2-6b81-41f7-ab18-dc5bda722089')\"\n",
              "            title=\"Convert this dataframe to an interactive table.\"\n",
              "            style=\"display:none;\">\n",
              "\n",
              "  <svg xmlns=\"http://www.w3.org/2000/svg\" height=\"24px\" viewBox=\"0 -960 960 960\">\n",
              "    <path d=\"M120-120v-720h720v720H120Zm60-500h600v-160H180v160Zm220 220h160v-160H400v160Zm0 220h160v-160H400v160ZM180-400h160v-160H180v160Zm440 0h160v-160H620v160ZM180-180h160v-160H180v160Zm440 0h160v-160H620v160Z\"/>\n",
              "  </svg>\n",
              "    </button>\n",
              "\n",
              "  <style>\n",
              "    .colab-df-container {\n",
              "      display:flex;\n",
              "      gap: 12px;\n",
              "    }\n",
              "\n",
              "    .colab-df-convert {\n",
              "      background-color: #E8F0FE;\n",
              "      border: none;\n",
              "      border-radius: 50%;\n",
              "      cursor: pointer;\n",
              "      display: none;\n",
              "      fill: #1967D2;\n",
              "      height: 32px;\n",
              "      padding: 0 0 0 0;\n",
              "      width: 32px;\n",
              "    }\n",
              "\n",
              "    .colab-df-convert:hover {\n",
              "      background-color: #E2EBFA;\n",
              "      box-shadow: 0px 1px 2px rgba(60, 64, 67, 0.3), 0px 1px 3px 1px rgba(60, 64, 67, 0.15);\n",
              "      fill: #174EA6;\n",
              "    }\n",
              "\n",
              "    .colab-df-buttons div {\n",
              "      margin-bottom: 4px;\n",
              "    }\n",
              "\n",
              "    [theme=dark] .colab-df-convert {\n",
              "      background-color: #3B4455;\n",
              "      fill: #D2E3FC;\n",
              "    }\n",
              "\n",
              "    [theme=dark] .colab-df-convert:hover {\n",
              "      background-color: #434B5C;\n",
              "      box-shadow: 0px 1px 3px 1px rgba(0, 0, 0, 0.15);\n",
              "      filter: drop-shadow(0px 1px 2px rgba(0, 0, 0, 0.3));\n",
              "      fill: #FFFFFF;\n",
              "    }\n",
              "  </style>\n",
              "\n",
              "    <script>\n",
              "      const buttonEl =\n",
              "        document.querySelector('#df-f49e83c2-6b81-41f7-ab18-dc5bda722089 button.colab-df-convert');\n",
              "      buttonEl.style.display =\n",
              "        google.colab.kernel.accessAllowed ? 'block' : 'none';\n",
              "\n",
              "      async function convertToInteractive(key) {\n",
              "        const element = document.querySelector('#df-f49e83c2-6b81-41f7-ab18-dc5bda722089');\n",
              "        const dataTable =\n",
              "          await google.colab.kernel.invokeFunction('convertToInteractive',\n",
              "                                                    [key], {});\n",
              "        if (!dataTable) return;\n",
              "\n",
              "        const docLinkHtml = 'Like what you see? Visit the ' +\n",
              "          '<a target=\"_blank\" href=https://colab.research.google.com/notebooks/data_table.ipynb>data table notebook</a>'\n",
              "          + ' to learn more about interactive tables.';\n",
              "        element.innerHTML = '';\n",
              "        dataTable['output_type'] = 'display_data';\n",
              "        await google.colab.output.renderOutput(dataTable, element);\n",
              "        const docLink = document.createElement('div');\n",
              "        docLink.innerHTML = docLinkHtml;\n",
              "        element.appendChild(docLink);\n",
              "      }\n",
              "    </script>\n",
              "  </div>\n",
              "\n",
              "    </div>\n",
              "  </div>\n"
            ]
          },
          "metadata": {},
          "execution_count": 178
        }
      ]
    },
    {
      "cell_type": "code",
      "source": [
        "# contingency table\n",
        "table = [[50 , 142 , 131 , 70] ,\n",
        "         [435 , 1523 , 1356 , 750]]\n",
        "print(table)"
      ],
      "metadata": {
        "colab": {
          "base_uri": "https://localhost:8080/"
        },
        "id": "uOFNb8q04Sd3",
        "outputId": "3363eaf3-d095-4835-917a-662734db0eee"
      },
      "execution_count": null,
      "outputs": [
        {
          "output_type": "stream",
          "name": "stdout",
          "text": [
            "[[50, 142, 131, 70], [435, 1523, 1356, 750]]\n"
          ]
        }
      ]
    },
    {
      "cell_type": "code",
      "source": [
        "stat, p , dof , expected = stats.chi2_contingency(table)\n",
        "print('dof=%d' % dof)\n",
        "print(p)"
      ],
      "metadata": {
        "colab": {
          "base_uri": "https://localhost:8080/"
        },
        "id": "b3wWp56WCPVv",
        "outputId": "8f7d6e96-5164-4451-ee55-762baf066c90"
      },
      "execution_count": null,
      "outputs": [
        {
          "output_type": "stream",
          "name": "stdout",
          "text": [
            "dof=3\n",
            "0.6603094907091882\n"
          ]
        }
      ]
    },
    {
      "cell_type": "code",
      "source": [
        "expected"
      ],
      "metadata": {
        "colab": {
          "base_uri": "https://localhost:8080/"
        },
        "id": "vQu-z9sRCYET",
        "outputId": "9f8de305-cfe8-487c-e3d4-926d58593200"
      },
      "execution_count": null,
      "outputs": [
        {
          "output_type": "execute_result",
          "data": {
            "text/plain": [
              "array([[  42.76531299,  146.81287862,  131.11756787,   72.30424052],\n",
              "       [ 442.23468701, 1518.18712138, 1355.88243213,  747.69575948]])"
            ]
          },
          "metadata": {},
          "execution_count": 181
        }
      ]
    },
    {
      "cell_type": "code",
      "source": [
        "#interpert p-value\n",
        "alpha = 0.05\n",
        "print('significance=%.3f , p=%.3f' % (alpha,p))\n",
        "if p<= alpha:\n",
        "  print('Dependence - There is no difference between number of females and males buyer')\n",
        "else:\n",
        "  print('independence - There is difference between number of females and males buyer')"
      ],
      "metadata": {
        "colab": {
          "base_uri": "https://localhost:8080/"
        },
        "id": "Y3w6uDOHCfHM",
        "outputId": "a6dfb911-c2e3-49a3-f847-36f3d83de78a"
      },
      "execution_count": null,
      "outputs": [
        {
          "output_type": "stream",
          "name": "stdout",
          "text": [
            "significance=0.050 , p=0.660\n",
            "independence - There is difference between number of females and males buyer\n"
          ]
        }
      ]
    },
    {
      "cell_type": "code",
      "source": [],
      "metadata": {
        "id": "N76hiJP9HCQ_"
      },
      "execution_count": null,
      "outputs": []
    }
  ]
}